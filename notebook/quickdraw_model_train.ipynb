{
 "cells": [
  {
   "cell_type": "code",
   "execution_count": 2,
   "metadata": {},
   "outputs": [],
   "source": [
    "import json\n",
    "import numpy as np\n",
    "import matplotlib.pyplot as plt\n",
    "import tensorflow as tf\n",
    "from tensorflow import keras\n",
    "from tensorflow.keras.layers import Dense, Flatten, Conv2D\n",
    "from tensorflow.keras import Model\n",
    "from sklearn.preprocessing import LabelEncoder\n",
    "from PIL import Image"
   ]
  },
  {
   "cell_type": "code",
   "execution_count": 3,
   "metadata": {},
   "outputs": [],
   "source": [
    "class myCallback(tf.keras.callbacks.Callback):\n",
    "\n",
    "    def on_epoch_end(self, epoch, logs=None):\n",
    "        \n",
    "        if(logs.get('accuracy')>=0.99):\n",
    "            print('\\n Reached 99% accuracy so canceling training')\n",
    "            self.model.stop_training = True"
   ]
  },
  {
   "cell_type": "code",
   "execution_count": 4,
   "metadata": {},
   "outputs": [],
   "source": [
    "def get_labels(name):\n",
    "    terms = name.split('_')  # Split using underscores\n",
    "    class_name = terms[-1].replace('.npy', '')\n",
    "    \n",
    "    return class_name"
   ]
  },
  {
   "cell_type": "code",
   "execution_count": 5,
   "metadata": {},
   "outputs": [],
   "source": [
    "file_names = ['full_numpy_bitmap_butterfly.npy',\n",
    "              'full_numpy_bitmap_cake.npy',\n",
    "              'full_numpy_bitmap_fish.npy',\n",
    "              'full_numpy_bitmap_frog.npy',\n",
    "              'full_numpy_bitmap_mushroom.npy',\n",
    "              'full_numpy_bitmap_pants.npy',\n",
    "              'full_numpy_bitmap_shoe.npy',\n",
    "              'full_numpy_bitmap_star.npy',\n",
    "              'full_numpy_bitmap_t-shirt.npy',\n",
    "              'full_numpy_bitmap_television.npy',\n",
    "              'full_numpy_bitmap_The Eiffel Tower.npy',\n",
    "              'full_numpy_bitmap_umbrella.npy',\n",
    "              'full_numpy_bitmap_bed.npy',\n",
    "              'full_numpy_bitmap_basketball.npy',\n",
    "              'full_numpy_bitmap_banana.npy',\n",
    "              'full_numpy_bitmap_axe.npy', \n",
    "              'full_numpy_bitmap_apple.npy',\n",
    "              'full_numpy_bitmap_ambulance.npy', \n",
    "              'full_numpy_bitmap_aircraft carrier.npy', \n",
    "              'full_numpy_bitmap_The Great Wall of China.npy', \n",
    "              'full_numpy_bitmap_The Mona Lisa.npy']\n",
    "\n",
    "concatenated_array = np.array([])\n",
    "concatenated_labels = np.array([])\n",
    "\n",
    "arrays = [np.load(file_name) for file_name in file_names]\n",
    "concatenated_array = np.concatenate(arrays, axis=0)\n",
    "\n",
    "\n",
    "arrays_1 = [np.array([get_labels(file_name)] * len(np.load(file_name))) for file_name in file_names]\n",
    "concatenated_labels = np.concatenate(arrays_1, axis=0)\n"
   ]
  },
  {
   "cell_type": "code",
   "execution_count": 6,
   "metadata": {},
   "outputs": [
    {
     "name": "stdout",
     "output_type": "stream",
     "text": [
      "(2990978,)\n",
      "(784,)\n"
     ]
    }
   ],
   "source": [
    "print(concatenated_labels.shape)\n",
    "print(concatenated_array[0].shape)"
   ]
  },
  {
   "cell_type": "code",
   "execution_count": 7,
   "metadata": {},
   "outputs": [
    {
     "data": {
      "text/plain": [
       "(array(['The Eiffel Tower', 'The Great Wall of China', 'The Mona Lisa',\n",
       "        'aircraft carrier', 'ambulance', 'apple', 'axe', 'banana',\n",
       "        'basketball', 'bed', 'butterfly', 'cake', 'fish', 'frog',\n",
       "        'mushroom', 'pants', 'shoe', 'star', 't-shirt', 'television',\n",
       "        'umbrella'], dtype='<U23'),\n",
       " array([134801, 193015, 121383, 116504, 148004, 144722, 124122, 307936,\n",
       "        133793, 113862, 117999, 124905, 134150, 159047, 142167, 144264,\n",
       "        120231, 137619, 125233, 123137, 124084], dtype=int64))"
      ]
     },
     "execution_count": 7,
     "metadata": {},
     "output_type": "execute_result"
    }
   ],
   "source": [
    "np.unique(concatenated_labels, return_counts=True)"
   ]
  },
  {
   "cell_type": "code",
   "execution_count": 8,
   "metadata": {},
   "outputs": [
    {
     "data": {
      "text/plain": [
       "<matplotlib.image.AxesImage at 0x286ca2e81d0>"
      ]
     },
     "execution_count": 8,
     "metadata": {},
     "output_type": "execute_result"
    },
    {
     "data": {
      "image/png": "[encoded data removed]",
      "text/plain": [
       "<Figure size 640x480 with 1 Axes>"
      ]
     },
     "metadata": {},
     "output_type": "display_data"
    }
   ],
   "source": [
    "plt.imshow(concatenated_array[500000].reshape((28,28)))"
   ]
  },
  {
   "cell_type": "code",
   "execution_count": null,
   "metadata": {},
   "outputs": [],
   "source": [
    "encoder = LabelEncoder()\n",
    "concatenated_labels_int = encoder.fit_transform(concatenated_labels)"
   ]
  },
  {
   "cell_type": "code",
   "execution_count": null,
   "metadata": {},
   "outputs": [
    {
     "data": {
      "text/plain": [
       "(array([ 0,  1,  2,  3,  4,  5,  6,  7,  8,  9, 10, 11, 12, 13, 14, 15, 16,\n",
       "        17, 18, 19, 20], dtype=int64),\n",
       " array([134801, 193015, 121383, 116504, 148004, 144722, 124122, 307936,\n",
       "        133793, 113862, 117999, 124905, 134150, 159047, 142167, 144264,\n",
       "        120231, 137619, 125233, 123137, 124084], dtype=int64))"
      ]
     },
     "execution_count": 9,
     "metadata": {},
     "output_type": "execute_result"
    }
   ],
   "source": [
    "np.unique(concatenated_labels_int, return_counts=True)"
   ]
  },
  {
   "cell_type": "code",
   "execution_count": null,
   "metadata": {},
   "outputs": [],
   "source": [
    "indices = np.arange(len(concatenated_array))\n",
    "\n",
    "np.random.shuffle(indices)\n",
    "\n",
    "X_train = concatenated_array[indices]\n",
    "Y_train_int = concatenated_labels_int[indices]\n",
    "Y_train = concatenated_labels[indices]\n"
   ]
  },
  {
   "cell_type": "code",
   "execution_count": null,
   "metadata": {},
   "outputs": [],
   "source": [
    "callbacks = myCallback()\n",
    "\n",
    "model = keras.Sequential([\n",
    "    keras.layers.Reshape((28, 28, 1), input_shape=(784,)),\n",
    "    keras.layers.Conv2D(64, (3,3), activation='relu'),\n",
    "    keras.layers.MaxPooling2D(2,2),\n",
    "    keras.layers.Conv2D(64, (3,3), activation='relu'),\n",
    "    keras.layers.MaxPooling2D(2,2),\n",
    "    keras.layers.Conv2D(64, (3,3), activation='relu'),\n",
    "    keras.layers.MaxPooling2D(2,2),\n",
    "    keras.layers.Flatten(),\n",
    "    keras.layers.Dense(100 , activation ='selu'),\n",
    "    keras.layers.Dense(21 ,  activation ='softmax' )\n",
    "    ])\n",
    "\n",
    "# model = Sequential()\n",
    "#     model.add(Conv2D(32, (5, 5), input_shape=(image_x,image_y,1), activation='relu'))\n",
    "#     model.add(MaxPooling2D(pool_size=(2, 2), strides=(2, 2), padding='same'))\n",
    "#     model.add(Conv2D(64, (5, 5), activation='relu'))\n",
    "#     model.add(MaxPooling2D(pool_size=(2, 2), strides=(2, 2), padding='same'))\n",
    "\n",
    "#     model.add(Flatten())\n",
    "#     model.add(Dense(512, activation='relu'))\n",
    "#     model.add(Dropout(0.6))\n",
    "#     model.add(Dense(128, activation='relu'))\n",
    "#     model.add(Dropout(0.6))\n",
    "#     model.add(Dense(num_of_classes, activation='softmax'))\n",
    "\n",
    "model.summary()\n",
    "\n",
    "\n",
    "model.compile(\n",
    "    optimizer ='adam',\n",
    "    loss='sparse_categorical_crossentropy',\n",
    "    metrics ='accuracy'\n",
    ")"
   ]
  },
  {
   "cell_type": "code",
   "execution_count": null,
   "metadata": {},
   "outputs": [],
   "source": [
    "X_train[0].shape"
   ]
  },
  {
   "cell_type": "code",
   "execution_count": null,
   "metadata": {},
   "outputs": [],
   "source": [
    "model_history = model.fit(X_train , Y_train_int , epochs= 3, batch_size=256, callbacks = [callbacks])"
   ]
  },
  {
   "cell_type": "code",
   "execution_count": null,
   "metadata": {},
   "outputs": [],
   "source": []
  },
  {
   "cell_type": "code",
   "execution_count": null,
   "metadata": {},
   "outputs": [],
   "source": [
    "image_path = 'hello (48)-modified.png'\n",
    "image = Image.open(image_path)\n",
    "image = image.convert(\"L\")\n",
    "\n",
    "# # Display some basic information about the image\n",
    "# print(\"Image format:\", image.format)\n",
    "# print(\"Image size:\", image.size)\n",
    "# print(\"Image mode:\", image.mode)\n",
    "\n",
    "desired_size = (28, 28)\n",
    "resized_image = image.resize(desired_size)\n",
    "\n",
    "image_array = np.array(resized_image)\n",
    "\n",
    "# Now you can work with the image_array as needed\n",
    "# For example, you can use it as input for your model\n"
   ]
  },
  {
   "cell_type": "code",
   "execution_count": null,
   "metadata": {},
   "outputs": [],
   "source": [
    "plt.imshow(resized_image)"
   ]
  },
  {
   "cell_type": "code",
   "execution_count": null,
   "metadata": {},
   "outputs": [],
   "source": [
    "image_array = image_array.reshape((1,784,))"
   ]
  },
  {
   "cell_type": "code",
   "execution_count": null,
   "metadata": {},
   "outputs": [],
   "source": [
    "image_array.shape"
   ]
  },
  {
   "cell_type": "code",
   "execution_count": null,
   "metadata": {},
   "outputs": [],
   "source": [
    "model.predict(image_array)"
   ]
  },
  {
   "cell_type": "code",
   "execution_count": null,
   "metadata": {},
   "outputs": [],
   "source": [
    "# predictions = np.argmax(model.predict(concatenated_array[500000].reshape((1,784))), axis=1)\n",
    "predictions = np.argmax(model.predict(image_array), axis=1)"
   ]
  },
  {
   "cell_type": "code",
   "execution_count": null,
   "metadata": {},
   "outputs": [],
   "source": [
    "type(predictions) "
   ]
  },
  {
   "cell_type": "code",
   "execution_count": null,
   "metadata": {},
   "outputs": [],
   "source": [
    "encoder.inverse_transform(predictions)"
   ]
  }
 ],
 "metadata": {
  "kernelspec": {
   "display_name": "Python 3",
   "language": "python",
   "name": "python3"
  },
  "language_info": {
   "codemirror_mode": {
    "name": "ipython",
    "version": 3
   },
   "file_extension": ".py",
   "mimetype": "text/x-python",
   "name": "python",
   "nbconvert_exporter": "python",
   "pygments_lexer": "ipython3",
   "version": "3.11.3"
  },
  "orig_nbformat": 4
 },
 "nbformat": 4,
 "nbformat_minor": 2
}
